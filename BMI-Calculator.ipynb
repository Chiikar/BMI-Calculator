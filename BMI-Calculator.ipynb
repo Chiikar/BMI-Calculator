{
 "cells": [
  {
   "cell_type": "markdown",
   "id": "6cd2fd05-8638-411f-a65f-d44524d859be",
   "metadata": {},
   "source": [
    "#### BMI CALCULATOR (BODY MASS INDEX)"
   ]
  },
  {
   "cell_type": "code",
   "execution_count": 17,
   "id": "bf0e567c-70b3-418a-9d0c-ff74a319678a",
   "metadata": {},
   "outputs": [],
   "source": [
    "#BMI RATING\n",
    "#Under 18.5 = Underweight-Minimal\n",
    "# 18.5 -24.9 = Normalweight-Minimal\n",
    "#25 - 29.9 = Overweight-increased\n",
    "#30-34.9 = Obese-High\n",
    "#35-35.9 = Severely obese-Very High\n",
    "#40 and above = Mobidly obese-extremely High"
   ]
  },
  {
   "cell_type": "code",
   "execution_count": 15,
   "id": "1faf9988-b3ae-49c0-899e-531a7f35d3a9",
   "metadata": {},
   "outputs": [],
   "source": [
    "# BMI = (Weight in pounds x 703)/(height in inches x height in inches)"
   ]
  },
  {
   "cell_type": "code",
   "execution_count": 48,
   "id": "19280b59-1b34-4041-b03e-22228369b173",
   "metadata": {},
   "outputs": [
    {
     "name": "stdin",
     "output_type": "stream",
     "text": [
      "Enter your name: Meridth\n",
      "Enter your age: 30\n",
      "Enter your weight in pounds: 176\n",
      "Enter your height in inches: 62\n"
     ]
    },
    {
     "name": "stdout",
     "output_type": "stream",
     "text": [
      "32.187304890738815\n",
      "Meridth, you are Obese. You need to exercise more and eat healthy foods\n"
     ]
    }
   ],
   "source": [
    "name = (input(\"Enter your name:\"))\n",
    "\n",
    "Age = int(input(\"Enter your age:\"))\n",
    "\n",
    "weight = int(input(\"Enter your weight in pounds:\"))\n",
    "\n",
    "height = int(input(\"Enter your height in inches:\"))\n",
    "\n",
    "BMI = (weight * 703)/(height * height)\n",
    "\n",
    "print(BMI)\n",
    "\n",
    "if BMI >= 0:\n",
    "    if BMI < 18.5:\n",
    "        print(name + \", you are Underweight.\")\n",
    "    elif BMI <= 24.9:\n",
    "        print(name + \", you are Normal weight.\")\n",
    "    elif BMI <= 29.9:\n",
    "        print(name + \", you are Overweight.\")\n",
    "    else:\n",
    "        print(name + \", you are Obese. You need to exercise more and eat healthy foods\")"
   ]
  },
  {
   "cell_type": "code",
   "execution_count": 49,
   "id": "49cbb9db-d931-4a07-9f7a-f3e54505dc03",
   "metadata": {},
   "outputs": [
    {
     "name": "stdout",
     "output_type": "stream",
     "text": [
      "Meridth, you are Obese.\n"
     ]
    }
   ],
   "source": [
    "#Checking which category the BMI result falls into\n",
    "\n",
    "if BMI >= 0:\n",
    "    if BMI < 18.5:\n",
    "        print(name + \", you are Underweight.\")\n",
    "    elif BMI <= 24.9:\n",
    "        print(name + \", you are Normal weight.\")\n",
    "    elif BMI <= 29.9:\n",
    "        print(name + \", you are Overweight.\")\n",
    "    else:\n",
    "        print(name + \", you are Obese.\")"
   ]
  },
  {
   "cell_type": "markdown",
   "id": "920301c0-7cd4-44ee-aad0-76c433391357",
   "metadata": {},
   "source": [
    "#### BMI Calculator For New Users "
   ]
  },
  {
   "cell_type": "code",
   "execution_count": 5,
   "id": "4c2e8145-7757-4b0b-b60d-86ecde6441c9",
   "metadata": {},
   "outputs": [
    {
     "name": "stdout",
     "output_type": "stream",
     "text": [
      "Welcome to Sparks Hospital BMI Calculator!!!!\n"
     ]
    },
    {
     "name": "stdin",
     "output_type": "stream",
     "text": [
      "Enter your name:  Nikklaus Mikealson\n",
      "Enter your gender:  Male\n",
      "Enter your age:  38\n",
      "Enter your weight in pounds:  200\n",
      "Enter your height in inches:  65\n"
     ]
    },
    {
     "name": "stdout",
     "output_type": "stream",
     "text": [
      "33.27810650887574\n",
      "Nikklaus Mikealson, you are Obese. It is a dangerous path you're going. Exercise more and eat healthier foods\n"
     ]
    }
   ],
   "source": [
    "#Testing User1\n",
    "Hospital = 'Welcome to Sparks Hospital BMI Calculator!!!!'\n",
    "\n",
    "print(Hospital)\n",
    "\n",
    "name = input(\"Enter your name: \")\n",
    "gender = input(\"Enter your gender: \")\n",
    "age = int(input(\"Enter your age: \"))\n",
    "weight = int(input(\"Enter your weight in pounds: \"))\n",
    "height = int(input(\"Enter your height in inches: \"))\n",
    "\n",
    "BMI = (weight * 703) / (height * height)\n",
    "\n",
    "print(BMI)\n",
    "\n",
    "if BMI >= 0:\n",
    "    if BMI < 18.5:\n",
    "        print(name + \", you are Underweight. You need to eat more and gain the right weight\")\n",
    "    elif BMI <= 24.9:\n",
    "        print(name + \", you are Normal weight. You can maintain your weight\")\n",
    "    elif BMI <= 29.9:\n",
    "        print(name + \", you are Overweight. You need to cut down on carbs and eat more proteins\")\n",
    "    elif BMI <= 34.9:\n",
    "        print(name + \", you are Obese. It is a dangerous path you're going. Exercise more and eat healthier foods\")\n",
    "    elif BMI <= 39.9:\n",
    "        print(name + \", you are Severely Obese. Don't feel down; all you need is to exercise more and have a proper diet plan to shed some weight\")\n",
    "    elif BMI >= 40:\n",
    "        print(name + \", you are Morbidly Obese. You need a dietician to help you on your weight loss journey with the right food to eat and more exercise\")\n",
    "    else:\n",
    "        print(name + \", Enter Valid inputs.\")\n",
    "else:\n",
    "    print(\"Enter valid inputs!\")"
   ]
  },
  {
   "cell_type": "code",
   "execution_count": 6,
   "id": "02e3bb38-7af0-4c06-9310-4a287aeb8e9a",
   "metadata": {},
   "outputs": [
    {
     "name": "stdout",
     "output_type": "stream",
     "text": [
      "Welcome to Sparks Hospital BMI Calculator!!!!\n"
     ]
    },
    {
     "name": "stdin",
     "output_type": "stream",
     "text": [
      "Enter your name:  Miranda Bailey\n",
      "Enter your gender:  Female\n",
      "Enter your age:  32\n",
      "Enter your weight in pounds:  330\n",
      "Enter your height in inches:  69\n"
     ]
    },
    {
     "name": "stdout",
     "output_type": "stream",
     "text": [
      "48.72715816005041\n",
      "Miranda Bailey, you are Morbidly Obese. You need a dietician to help you on your weight loss journey with the right food to eat and more exercise\n"
     ]
    }
   ],
   "source": [
    "#Testing User2\n",
    "Hospital = 'Welcome to Sparks Hospital BMI Calculator!!!!'\n",
    "\n",
    "print(Hospital)\n",
    "\n",
    "name = input(\"Enter your name: \")\n",
    "gender = input(\"Enter your gender: \")\n",
    "age = int(input(\"Enter your age: \"))\n",
    "weight = int(input(\"Enter your weight in pounds: \"))\n",
    "height = int(input(\"Enter your height in inches: \"))\n",
    "\n",
    "BMI = (weight * 703) / (height * height)\n",
    "\n",
    "print(BMI)\n",
    "\n",
    "if BMI >= 0:\n",
    "    if BMI < 18.5:\n",
    "        print(name + \", you are Underweight. You need to eat more and gain the right weight\")\n",
    "    elif BMI <= 24.9:\n",
    "        print(name + \", you are Normal weight. You can maintain your weight\")\n",
    "    elif BMI <= 29.9:\n",
    "        print(name + \", you are Overweight. You need to cut down on carbs and eat more proteins\")\n",
    "    elif BMI <= 34.9:\n",
    "        print(name + \", you are Obese. It is a dangerous path you're going. Exercise more and eat healthier foods\")\n",
    "    elif BMI <= 39.9:\n",
    "        print(name + \", you are Severely Obese. Don't feel down; all you need is to exercise more and have a proper diet plan to shed some weight\")\n",
    "    elif BMI >= 40:\n",
    "        print(name + \", you are Morbidly Obese. You need a dietician to help you on your weight loss journey with the right food to eat and more exercise\")\n",
    "    else:\n",
    "        print(name + \", Enter Valid inputs.\")\n",
    "else:\n",
    "    print(\"Enter valid inputs!\")"
   ]
  }
 ],
 "metadata": {
  "kernelspec": {
   "display_name": "Python 3 (ipykernel)",
   "language": "python",
   "name": "python3"
  },
  "language_info": {
   "codemirror_mode": {
    "name": "ipython",
    "version": 3
   },
   "file_extension": ".py",
   "mimetype": "text/x-python",
   "name": "python",
   "nbconvert_exporter": "python",
   "pygments_lexer": "ipython3",
   "version": "3.11.7"
  }
 },
 "nbformat": 4,
 "nbformat_minor": 5
}
