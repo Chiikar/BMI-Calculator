{
 "cells": [
  {
   "cell_type": "markdown",
   "id": "a0d66e11-cdd4-49fa-b26c-93644e102062",
   "metadata": {},
   "source": [
    "#### BMI Calculator For New Users "
   ]
  },
  {
   "cell_type": "code",
   "execution_count": null,
   "id": "a5aa2a8d-fe0a-4ec0-aede-a1c43bb7e7d4",
   "metadata": {},
   "outputs": [],
   "source": [
    "# BMI Formula\n",
    "\n",
    "# BMI = (Weight in pounds x 703)/(height in inches x height in inches)"
   ]
  },
  {
   "cell_type": "code",
   "execution_count": null,
   "id": "d0f7ef60-24d7-4b96-8cf3-83a324665a61",
   "metadata": {},
   "outputs": [],
   "source": [
    "#BMI RATING\n",
    "#Under 18.5 = Underweight-Minimal\n",
    "# 18.5 -24.9 = Normalweight-Minimal\n",
    "#25 - 29.9 = Overweight-increased\n",
    "#30-34.9 = Obese-High\n",
    "#35-35.9 = Severely obese-Very High\n",
    "#40 and above = Mobidly obese-extremely High"
   ]
  },
  {
   "cell_type": "code",
   "execution_count": null,
   "id": "ddda9fdc-ab58-4289-a477-c4cdd19b0be7",
   "metadata": {},
   "outputs": [],
   "source": [
    "# Testing User1"
   ]
  },
  {
   "cell_type": "code",
   "execution_count": 1,
   "id": "f46189dc-0afa-4266-993e-48e25965bf6e",
   "metadata": {},
   "outputs": [
    {
     "name": "stdout",
     "output_type": "stream",
     "text": [
      "Welcome to Sparks Hospital BMI Calculator!!!!\n"
     ]
    },
    {
     "name": "stdin",
     "output_type": "stream",
     "text": [
      "Enter your name:  Nikklaus Mikealson\n",
      "Enter your gender:  Male\n",
      "Enter your age:  38\n",
      "Enter your weight in pounds:  200\n",
      "Enter your height in inches:  65\n"
     ]
    },
    {
     "name": "stdout",
     "output_type": "stream",
     "text": [
      "33.27810650887574\n",
      "Nikklaus Mikealson, you are Obese. It is a dangerous path you're going. Exercise more and eat healthier foods\n"
     ]
    }
   ],
   "source": [
    "Hospital = 'Welcome to Sparks Hospital BMI Calculator!!!!'\n",
    "\n",
    "print(Hospital)\n",
    "\n",
    "name = input(\"Enter your name: \")\n",
    "gender = input(\"Enter your gender: \")\n",
    "age = int(input(\"Enter your age: \"))\n",
    "weight = int(input(\"Enter your weight in pounds: \"))\n",
    "height = int(input(\"Enter your height in inches: \"))\n",
    "\n",
    "BMI = (weight * 703) / (height * height)\n",
    "\n",
    "print(BMI)\n",
    "\n",
    "if BMI >= 0:\n",
    "    if BMI < 18.5:\n",
    "        print(name + \", you are Underweight. You need to eat more and gain the right weight\")\n",
    "    elif BMI <= 24.9:\n",
    "        print(name + \", you are Normal weight. You can maintain your weight\")\n",
    "    elif BMI <= 29.9:\n",
    "        print(name + \", you are Overweight. You need to cut down on carbs and eat more proteins\")\n",
    "    elif BMI <= 34.9:\n",
    "        print(name + \", you are Obese. It is a dangerous path you're going. Exercise more and eat healthier foods\")\n",
    "    elif BMI <= 39.9:\n",
    "        print(name + \", you are Severely Obese. Don't feel down; all you need is to exercise more and have a proper diet plan to shed some weight\")\n",
    "    elif BMI >= 40:\n",
    "        print(name + \", you are Morbidly Obese. You need a dietician to help you on your weight loss journey with the right food to eat and more exercise\")\n",
    "    else:\n",
    "        print(name + \", Enter Valid inputs.\")\n",
    "else:\n",
    "    print(\"Enter valid inputs!\")"
   ]
  },
  {
   "cell_type": "code",
   "execution_count": null,
   "id": "5962f730-135d-4b32-a7d1-1e3f882be86a",
   "metadata": {},
   "outputs": [],
   "source": [
    "#Testing User2"
   ]
  },
  {
   "cell_type": "code",
   "execution_count": 2,
   "id": "eb09f0d2-576a-447e-b626-102f1751936e",
   "metadata": {},
   "outputs": [
    {
     "name": "stdout",
     "output_type": "stream",
     "text": [
      "Welcome to Sparks Hospital BMI Calculator!!!!\n"
     ]
    },
    {
     "name": "stdin",
     "output_type": "stream",
     "text": [
      "Enter your name:  Miranda Bailey\n",
      "Enter your gender:  Female\n",
      "Enter your age:  32\n",
      "Enter your weight in pounds:  330\n",
      "Enter your height in inches:  69\n"
     ]
    },
    {
     "name": "stdout",
     "output_type": "stream",
     "text": [
      "48.72715816005041\n",
      "Miranda Bailey, you are Morbidly Obese. You need a dietician to help you on your weight loss journey with the right food to eat and more exercise\n"
     ]
    }
   ],
   "source": [
    "Hospital = 'Welcome to Sparks Hospital BMI Calculator!!!!'\n",
    "\n",
    "print(Hospital)\n",
    "\n",
    "name = input(\"Enter your name: \")\n",
    "gender = input(\"Enter your gender: \")\n",
    "age = int(input(\"Enter your age: \"))\n",
    "weight = int(input(\"Enter your weight in pounds: \"))\n",
    "height = int(input(\"Enter your height in inches: \"))\n",
    "\n",
    "BMI = (weight * 703) / (height * height)\n",
    "\n",
    "print(BMI)\n",
    "\n",
    "if BMI >= 0:\n",
    "    if BMI < 18.5:\n",
    "        print(name + \", you are Underweight. You need to eat more and gain the right weight\")\n",
    "    elif BMI <= 24.9:\n",
    "        print(name + \", you are Normal weight. You can maintain your weight\")\n",
    "    elif BMI <= 29.9:\n",
    "        print(name + \", you are Overweight. You need to cut down on carbs and eat more proteins\")\n",
    "    elif BMI <= 34.9:\n",
    "        print(name + \", you are Obese. It is a dangerous path you're going. Exercise more and eat healthier foods\")\n",
    "    elif BMI <= 39.9:\n",
    "        print(name + \", you are Severely Obese. Don't feel down; all you need is to exercise more and have a proper diet plan to shed some weight\")\n",
    "    elif BMI >= 40:\n",
    "        print(name + \", you are Morbidly Obese. You need a dietician to help you on your weight loss journey with the right food to eat and more exercise\")\n",
    "    else:\n",
    "        print(name + \", Enter Valid inputs.\")\n",
    "else:\n",
    "    print(\"Enter valid inputs!\")"
   ]
  },
  {
   "cell_type": "code",
   "execution_count": null,
   "id": "1c552fda-43f1-434c-b689-a19a8d51c2f1",
   "metadata": {},
   "outputs": [],
   "source": []
  },
  {
   "cell_type": "code",
   "execution_count": null,
   "id": "3d097d3b-a839-4636-a781-ee988aacef59",
   "metadata": {},
   "outputs": [],
   "source": []
  },
  {
   "cell_type": "code",
   "execution_count": null,
   "id": "55269093-c716-4f98-822a-d1c698e4056b",
   "metadata": {},
   "outputs": [],
   "source": []
  },
  {
   "cell_type": "code",
   "execution_count": null,
   "id": "145084d4-c2ef-4332-add3-4d87f5843067",
   "metadata": {},
   "outputs": [],
   "source": []
  },
  {
   "cell_type": "code",
   "execution_count": null,
   "id": "0ffe14d0-c790-47ed-8598-793f04c2a41f",
   "metadata": {},
   "outputs": [],
   "source": []
  },
  {
   "cell_type": "code",
   "execution_count": null,
   "id": "756daa45-81b2-4870-951d-8d4d3fe01c42",
   "metadata": {},
   "outputs": [],
   "source": []
  },
  {
   "cell_type": "code",
   "execution_count": null,
   "id": "fe9cd350-e15a-428b-af8e-441ef8b087bd",
   "metadata": {},
   "outputs": [],
   "source": []
  },
  {
   "cell_type": "code",
   "execution_count": null,
   "id": "427762ae-2eb2-4966-8211-16ea09b1e291",
   "metadata": {},
   "outputs": [],
   "source": []
  }
 ],
 "metadata": {
  "kernelspec": {
   "display_name": "Python 3 (ipykernel)",
   "language": "python",
   "name": "python3"
  },
  "language_info": {
   "codemirror_mode": {
    "name": "ipython",
    "version": 3
   },
   "file_extension": ".py",
   "mimetype": "text/x-python",
   "name": "python",
   "nbconvert_exporter": "python",
   "pygments_lexer": "ipython3",
   "version": "3.11.7"
  }
 },
 "nbformat": 4,
 "nbformat_minor": 5
}
